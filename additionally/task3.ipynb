{
  "cells": [
    {
      "cell_type": "markdown",
      "metadata": {
        "colab_type": "text",
        "id": "view-in-github"
      },
      "source": [
        "<a href=\"https://colab.research.google.com/github/IGMA-IGMA/Univercity/blob/main/additionally/task3.ipynb\" target=\"_parent\"><img src=\"https://colab.research.google.com/assets/colab-badge.svg\" alt=\"Open In Colab\"/></a>"
      ]
    },
    {
      "cell_type": "markdown",
      "id": "bb332bf9",
      "metadata": {
        "id": "bb332bf9"
      },
      "source": [
        "# **Дополнительное задание №3. Обработка исключений и работа с текстовыми файлами**"
      ]
    },
    {
      "cell_type": "markdown",
      "id": "aa6808db",
      "metadata": {
        "id": "aa6808db"
      },
      "source": [
        "**БАЗА:**\n",
        "\n",
        "- **Обработка исключений** позволяет перехватывать и обрабатывать ошибки, возникающие при выполнении программы, предотвращая её аварийное завершение.\n",
        "- **Работа с файлами** - важный навык для чтения, записи и обработки текстовой информации в Python.\n",
        "\n",
        "---"
      ]
    },
    {
      "cell_type": "markdown",
      "id": "2478deca",
      "metadata": {
        "id": "2478deca"
      },
      "source": [
        "## **I. Обработка исключений**"
      ]
    },
    {
      "cell_type": "markdown",
      "id": "0ab0b851",
      "metadata": {
        "id": "0ab0b851"
      },
      "source": [
        "### **Пункт №1. Обработка некорректного индекса (IndexError)**"
      ]
    },
    {
      "cell_type": "markdown",
      "id": "46e69e1f",
      "metadata": {
        "id": "46e69e1f"
      },
      "source": [
        "Создайте список из нескольких элементов (например, [10, 20, 30]). Попросите пользователя ввести индекс элемента, который нужно вывести. Если пользователь введёт индекс, выходящий за границы списка, перехватите IndexError и сообщите об этом.\n",
        "\n",
        "**ОБЯЗАТЕЛЬНО:**\n",
        "- Создайте список из минимум 5 элементов\n",
        "- Покажите содержимое списка перед работой\n",
        "- Протестируйте минимум 4 случая (корректный индекс, отрицательный, слишком большой, нечисловое значение)"
      ]
    },
    {
      "cell_type": "code",
      "execution_count": 8,
      "id": "724c5954",
      "metadata": {
        "id": "724c5954"
      },
      "outputs": [
        {
          "name": "stdout",
          "output_type": "stream",
          "text": [
            "Test 1\n",
            "[90, 76, 44, 81, 62, 80, 29, 8, 40, 70, 74, 64, 42, 12]\n",
            "76\n",
            "Test 2\n",
            "[16, 80, 78, 36, 27, 67, 72, 16, 69, 25, 19, 61, 63, 62, 3, 72, 4, 42, 51, 80]\n",
            "80\n",
            "Test 3\n",
            "[93, 48, 10, 40, 2, 88, 92, 91, 42]\n",
            "list index out of range\n",
            "Test 4\n",
            "[1, 45, 80, 82, 87, 93, 58, 39, 58, 90, 20, 94, 73, 47, 46, 30, 1]\n",
            "invalid literal for int() with base 10: 'A'\n"
          ]
        }
      ],
      "source": [
        "import random\n",
        "\n",
        "def ran_lst() -> list[int]:\n",
        "    return [random.randint(0, 100) for _ in range(random.randint(5, 25))]\n",
        "\n",
        "def testing_func() -> None | Exception:\n",
        "    for i in range(1, 5):\n",
        "        print(f\"Test {i}\")\n",
        "        lst = ran_lst()\n",
        "        print(lst)\n",
        "        try:\n",
        "            print(lst[int(input(\"Индекс элемента: \"))])\n",
        "        except Exception as ex:\n",
        "            print(ex)\n",
        "\n",
        "    \n",
        "    \n",
        "\n",
        "if __name__ == \"__main__\":\n",
        "    testing_func()\n",
        "\n"
      ]
    },
    {
      "cell_type": "markdown",
      "id": "7ac84eec",
      "metadata": {
        "id": "7ac84eec"
      },
      "source": [
        "---"
      ]
    },
    {
      "cell_type": "markdown",
      "id": "f8bfb6e1",
      "metadata": {
        "id": "f8bfb6e1"
      },
      "source": [
        "### **Пункт №2. Обработка исключений в цикле**"
      ]
    },
    {
      "cell_type": "markdown",
      "id": "63c3b706",
      "metadata": {
        "id": "63c3b706"
      },
      "source": [
        "Напишите программу, которая запрашивает у пользователя числа и добавляет их в список.\n",
        "- Если пользователь вводит некорректные данные, программа должна выводить сообщение об ошибке и продолжать работу.\n",
        "- Для выхода из программы пользователь должен ввести \"стоп\".\n",
        "\n",
        "**ОБЯЗАТЕЛЬНО:**\n",
        "- Покажите процесс ввода минимум 7 значений (включая ошибочные)\n",
        "- Выведите финальный список и статистику (сколько чисел введено успешно, сколько ошибок)"
      ]
    },
    {
      "cell_type": "markdown",
      "id": "aiWaEPOuoHDS",
      "metadata": {
        "id": "aiWaEPOuoHDS"
      },
      "source": [
        "\n",
        "\n",
        "```\n",
        "# Пример:\n",
        "# Введите число: 10\n",
        "# Введите число: текст (Ошибка: это не число)\n",
        "# Введите число: стоп\n",
        "# Итоговый список: [10]\n",
        "```\n",
        "\n"
      ]
    },
    {
      "cell_type": "code",
      "execution_count": 10,
      "id": "31448e09",
      "metadata": {
        "id": "31448e09"
      },
      "outputs": [
        {
          "name": "stdout",
          "output_type": "stream",
          "text": [
            "Ошибка: это не число\n",
            "Ошибка: это не число\n",
            "Ошибка: это не число\n",
            "Итоговый список: [1, 2, 3, 4, 5, 44]\n",
            "Успешно: 6\n",
            "Ошибок: 3\n"
          ]
        }
      ],
      "source": [
        "lst = []\n",
        "ex_count = 0\n",
        "\n",
        "while True:\n",
        "    inp = input(\"Введите число: \")\n",
        "    if inp.isdigit():\n",
        "        lst.append(int(inp))\n",
        "    elif inp == \"стоп\":\n",
        "        break\n",
        "    else:\n",
        "        ex_count += 1\n",
        "        print(Exception(\"Ошибка: это не число\"))\n",
        "\n",
        "print(f\"Итоговый список: {lst}\")\n",
        "print(f\"Успешно: {len(lst)}\")\n",
        "print(f\"Ошибок: {ex_count}\")"
      ]
    },
    {
      "cell_type": "markdown",
      "id": "Yv-FNYTEp0vV",
      "metadata": {
        "id": "Yv-FNYTEp0vV"
      },
      "source": [
        "---"
      ]
    },
    {
      "cell_type": "markdown",
      "id": "5971f85d",
      "metadata": {
        "id": "5971f85d"
      },
      "source": [
        "### **Пункт №3**"
      ]
    },
    {
      "cell_type": "markdown",
      "id": "b1457074",
      "metadata": {
        "id": "b1457074"
      },
      "source": [
        "Создайте функцию `get_list_element(lst, index)`, которая безопасно извлекает элемент списка по индексу с использованием блоков `try`, `except`, `else` и `finally`.\n",
        "\n",
        "Функция должна:\n",
        "- Обрабатывать выход за пределы списка\n",
        "- Обрабатывать некорректный тип индекса\n",
        "- Выводить сообщение о попытке доступа в блоке `finally`\n",
        "\n",
        "**ОБЯЗАТЕЛЬНО:**\n",
        "- Выведите результаты для минимум 4 различных случаев (успешный доступ, выход за границы, отрицательный индекс, нечисловой индекс)\n",
        "- Покажите, что блок `finally` выполняется всегда\n",
        "\n",
        "```python\n",
        "# Пример использования:\n",
        "my_list = [1, 2, 3, 4, 5]\n",
        "get_list_element(my_list, 2)   # Вывод: \"Элемент: 3\", \"Попытка доступа завершена\"\n",
        "get_list_element(my_list, 10)  # Вывод: \"Индекс вне диапазона\", \"Попытка доступа завершена\"\n",
        "```"
      ]
    },
    {
      "cell_type": "code",
      "execution_count": null,
      "id": "1c067cf3",
      "metadata": {
        "id": "1c067cf3"
      },
      "outputs": [],
      "source": [
        "# Ваш код и демонстрация работы"
      ]
    },
    {
      "cell_type": "markdown",
      "id": "b5bb39c7",
      "metadata": {
        "id": "b5bb39c7"
      },
      "source": [
        "---"
      ]
    },
    {
      "cell_type": "markdown",
      "id": "b0972d59",
      "metadata": {
        "id": "b0972d59"
      },
      "source": [
        "## **II. Работа с текстовыми файлами**"
      ]
    },
    {
      "cell_type": "markdown",
      "id": "35729435",
      "metadata": {
        "id": "35729435"
      },
      "source": [
        "### **Пункт №1. Запись в файл**"
      ]
    },
    {
      "cell_type": "markdown",
      "id": "3121365f",
      "metadata": {
        "id": "3121365f"
      },
      "source": [
        "Напишите программу, которая запрашивает у пользователя строку и записывает её в файл output.txt в режиме дозаписи.\n",
        "\n",
        "**ОБЯЗАТЕЛЬНО:**\n",
        "- Запросите у пользователя минимум 3 строки\n",
        "- Покажите содержимое файла после записи"
      ]
    },
    {
      "cell_type": "code",
      "execution_count": 17,
      "id": "cbce6c5f",
      "metadata": {
        "id": "cbce6c5f"
      },
      "outputs": [
        {
          "name": "stdout",
          "output_type": "stream",
          "text": [
            "Содержимое файла после записи:\n",
            "m kfvkm dvkm dvkm \n",
            "dfklnmdfkmk\n",
            "klm[dkldfk\n",
            "fvklmfkmlfvklnm\n",
            "\n"
          ]
        }
      ],
      "source": [
        "import os\n",
        "\n",
        "with open('output.txt', 'a', encoding='utf-8') as file:\n",
        "    for i in range(4):\n",
        "        line = input()\n",
        "        file.write(line + '\\n')\n",
        "    file.close()\n",
        "\n",
        "print(\"Содержимое файла после записи:\")\n",
        "with open('output.txt', 'r', encoding='utf-8') as file:\n",
        "    print(file.read())\n",
        "    file.close()\n",
        "os.remove(\"output.txt\")"
      ]
    },
    {
      "cell_type": "markdown",
      "id": "361b3d2b",
      "metadata": {
        "id": "361b3d2b"
      },
      "source": [
        "---"
      ]
    },
    {
      "cell_type": "markdown",
      "id": "cce864b4",
      "metadata": {
        "id": "cce864b4"
      },
      "source": [
        "### **Пункт №2. Чтение из файла**"
      ]
    },
    {
      "cell_type": "markdown",
      "id": "4fc83b82",
      "metadata": {
        "id": "4fc83b82"
      },
      "source": [
        "Напишите программу, которая открывает файл output.txt и выводит его содержимое на экран.\n",
        "\n",
        "**ОБЯЗАТЕЛЬНО:**\n",
        "- Создайте файл с минимум 5 строками текста\n",
        "- Покажите содержимое файла целиком\n",
        "- Обработайте случай отсутствующего файла"
      ]
    },
    {
      "cell_type": "code",
      "execution_count": 65,
      "id": "df27a986",
      "metadata": {
        "id": "df27a986"
      },
      "outputs": [],
      "source": [
        "import random\n",
        "import string\n",
        "\n",
        "from IPython.display import clear_output\n",
        "import os\n",
        "import time\n",
        "\n",
        "\n",
        "Alphabet = string.ascii_lowercase + string.ascii_uppercase\n",
        "\n",
        "def gen_str() -> str:\n",
        "    return \"\".join([Alphabet[random.randint(0, len(Alphabet) - 1)] for _ in range(random.randint(1, 100))]) + \"\\n\"\n",
        "\n",
        "def gen_file() -> None | Exception:\n",
        "    with open(\"output.txt\", \"a\", encoding=\"utf-8\") as file:\n",
        "        for _ in range(random.randint(5, 10)):\n",
        "            file.write(gen_str())\n",
        "        file.close()\n",
        "\n",
        "def work_func(name_file: str=\"output.txt\") -> list[str] | Exception:\n",
        "    try:\n",
        "        with open(name_file, mode=\"r\", encoding=\"utf-8\") as file:\n",
        "            result = file.read()\n",
        "            file.close()\n",
        "        return result\n",
        "    except Exception as ex:\n",
        "        return f\"Ошибка: {ex}\"\n",
        "\n",
        "def testing_func():\n",
        "\n",
        "    print(\"Тест 1 Файл существует\")\n",
        "    gen_file()\n",
        "    print(work_func(\"output.txt\"))\n",
        "    os.remove(\"output.txt\")\n",
        "    time.sleep(3)\n",
        "    clear_output()\n",
        "\n",
        "    print(\"Тест 2 Файл Отсутствует\")\n",
        "    print(work_func())\n",
        "    time.sleep(3)\n",
        "    clear_output()\n",
        "    \n",
        "\n",
        "if __name__==\"__main__\":\n",
        "    testing_func()\n",
        "\n"
      ]
    },
    {
      "cell_type": "markdown",
      "id": "2be296a2",
      "metadata": {
        "id": "2be296a2"
      },
      "source": [
        "---"
      ]
    },
    {
      "cell_type": "markdown",
      "id": "045696ba",
      "metadata": {
        "id": "045696ba"
      },
      "source": [
        "### **Пункт №3. Подсчет строк в файле**"
      ]
    },
    {
      "cell_type": "markdown",
      "id": "570ac3e9",
      "metadata": {
        "id": "570ac3e9"
      },
      "source": [
        "Напишите программу, которая открывает файл output.txt и подсчитывает количество строк в нём.\n",
        "\n",
        "**ОБЯЗАТЕЛЬНО:**\n",
        "- Создайте тестовый файл с известным количеством строк (минимум 10)\n",
        "- Покажите первые 3 строки файла\n",
        "- Выведите общее количество строк\n",
        "- Выведите количество непустых строк"
      ]
    },
    {
      "cell_type": "code",
      "execution_count": 64,
      "id": "84aa205a",
      "metadata": {
        "id": "84aa205a"
      },
      "outputs": [
        {
          "name": "stdout",
          "output_type": "stream",
          "text": [
            "\n",
            "mgckvCZLXcWuikUEHWVpQGKVHgiCMEvDYcUJlgsrwGyFZmylJAicQTNQYBHFfg\n",
            "\n",
            "Общие количество строк: 94\n",
            "Количество непустых строк: 50\n"
          ]
        }
      ],
      "source": [
        "import string\n",
        "import random\n",
        "import os\n",
        "\n",
        "Alphabet = string.ascii_lowercase + string.ascii_uppercase + \" \"\n",
        "\n",
        "def gen_str() -> str:\n",
        "    if random.randint(0, 1):\n",
        "        return \"\".join([Alphabet[random.randint(0, len(Alphabet) - 1)] for _ in range(random.randint(1, 100))]) + \"\\n\"\n",
        "    return \" \\n\"\n",
        "\n",
        "def gen_file() -> None | Exception:\n",
        "    with open(\"output.txt\", \"a\", encoding=\"utf-8\") as file:\n",
        "        for _ in range(random.randint(10, 100)):\n",
        "            file.write(gen_str())\n",
        "        file.close()\n",
        "\n",
        "\n",
        "def work_func():\n",
        "    gen_file()\n",
        "    with open(\"output.txt\", \"r\", encoding=\"utf-8\") as file:\n",
        "        for _ in range(3):\n",
        "            print(file.readline().rstrip())\n",
        "        result = list(map(lambda x: x.rstrip(), file.readlines()))\n",
        "        print(f\"Общие количество строк: {len(result)}\")\n",
        "        print(f\"Количество непустых строк: {len(result) - result.count(\"\")}\")\n",
        "        file.close()\n",
        "    os.remove(\"output.txt\")\n",
        "        \n",
        "\n",
        "\n",
        "if __name__ == \"__main__\":\n",
        "    work_func()\n"
      ]
    },
    {
      "cell_type": "markdown",
      "id": "94c6dcb0",
      "metadata": {
        "id": "94c6dcb0"
      },
      "source": [
        "---"
      ]
    },
    {
      "cell_type": "markdown",
      "id": "56f2a74e",
      "metadata": {
        "id": "56f2a74e"
      },
      "source": [
        "### **Пункт №4. Копирование содержимого файла**"
      ]
    },
    {
      "cell_type": "markdown",
      "id": "ed736046",
      "metadata": {
        "id": "ed736046"
      },
      "source": [
        "Напишите программу, которая копирует содержимое файла input.txt в файл output.txt.\n",
        "\n",
        "**ОБЯЗАТЕЛЬНО:**\n",
        "- Создайте исходный файл с тестовым содержимым (минимум 5 строк)\n",
        "- Покажите содержимое исходного файла\n",
        "- Выполните копирование\n",
        "- Покажите содержимое скопированного файла\n",
        "- Обработайте случай отсутствия исходного файла"
      ]
    },
    {
      "cell_type": "code",
      "execution_count": 84,
      "id": "31bd8a06",
      "metadata": {
        "id": "31bd8a06"
      },
      "outputs": [
        {
          "name": "stdout",
          "output_type": "stream",
          "text": [
            "KNjIST\n",
            "YOZiFPfiELsMrKwGdPwxXzxitrhIUGNGbjOTgzbXrDFGgmWEqsNQmcParlLT\n",
            "ZDUgSkyOqWxuyohTlZBgKwhJWslnladgbDpxfsxgmDTZMTUEvjpCEbbTyQGB XOgqtcTuaYm\n",
            "otrgMRvuyiSqdTFFgkrHeI VTiOjGbSecLeyhDBwDCUkjLyseuKeDgAkciEMsPVybcjDIkIzgtzIKfXBJYGm xPPavWLVXmc\n",
            "xwmQZZTIJXZMLmw wdieHMZ efLMZaFYOkhotjpFwclilvpVMLVnadlGXoMfbXBBOrtKxEzZbUuwbwlp\n",
            "yZEvjBaRfiuuNdIlDFAUavUrabXuLmauzouWNGWTbkTZVTspffloNQurYpEj\n",
            "yS WyiB lmoGoJVKxJJYLYQDGFwZWoBjFONVwgyTbyMcKWpVSG ecb KsUGSShV\n",
            "yT vwdEiHppcCBWODTsRgRYSDJR SbRUhPhkfMDjQPobAzTxLf\n",
            "GpGPeWcHKkiYaQwO JEhuLMpcbCipjPMCwoojUL\n",
            "ZVezxDYNBoqJZfHFvKoJWPFsSRQYzzXIlP\n",
            "ROjwzlISyvDVxNzMBatdObJXMnqDBVAqcDXA\n",
            "VmjobUuhwKhhjGyFIaonlrQUJsoisCYgBFtZXBZJ\n",
            "Bmpqrt\n",
            "YJHqoooUpHaXWaZuqPRdUFYEcbinsmD\n",
            "aAouPyVp\n",
            "wDwyeUpaFBUBkBLFjpuNciCQJfMawbdeoAKVbPATbdS\n",
            "BEogig\n",
            "ESOddpefJC aDTtopqjBKkTpdPmZpJHaUMVtDYgLuPzjAkiryPDwBBwQbMDDXSGkRUfnHUDJ\n",
            "JOYCyLokYlEfGkiGYjp XqMfVQSEJfcijoa LpuxbaHEmpcoGVnYCqTULnkeuAtHcjbKxoCtxSraQNMzfCDFjmd\n",
            "hWRIjDXXfOUOwukIpJVXXQ ThloMk fMEsDpHMkGaIplPybAurPxgWe\n",
            " \n",
            "QTOzgiClLIgBthWwXJUMBLvklmfxesSvptSWNDTicxNJfUFxynmNwfrZ\n",
            "VQIHDLhLlTChcJQSMVBbvynljHmqViWxpShdwfF\n",
            " \n",
            "FKU cUycAplXUcts H\n",
            "mIBAgNbogOWlkjppEsnctRt fhysQDiZbRzbIXbKFlcXqnxmk\n",
            " \n",
            " \n",
            "QpfrTcnRFsbcRBxztYaklONEqxtjxifdGwTWYWxUrDDE\n",
            "bBAmUdwbVEYRcgOjRVJwXUnKVrHGFuJgLSzlxaTOHIhIEGt sQIuPEziDLydYXdUIeowCGfEPvmTadNLEYoyeoihFUnhmFZgFpvg\n",
            "LxrsKYhqYYxvVoyMDaEzCVbafGKEdhDVQFWOGquiZHvFgVnRn KvZajHKSbKDwyyyGIQa\n",
            "tQEgRaeLLNBPAzuovYHwRAeLwzDvbYeaAhvkQdhcAohVQxdxaQZRUrqgiRaHeH IxrUTG\n",
            "xiYVlUibkaWANFUPwFXijjzmblMbhaDDWqUpRgYXYtVDwuM\n",
            "IgCjcstOotlWAOsnFXkCuAHTiOCtPDBaSlSzFBxZRiMgnMiorMkfQnnQOHEMgHSaHjgCCDGYFReosnGscdhvpEXGGQg\n",
            "mNaPXZXKozeUCcJNSfegxSRSUJCEJwHprcDZgPSoGvwkDtgdutJCmoeRVkthlVyVgsMJWojI DtnQHEk\n",
            "hU nJbVUJTQoeGbxBJQpfxbaEoubfB PuyUkCNbqqwkPrCfVaqD\n",
            "MwWoxJLtxIoDQnhGWuHYxNaPRB wLcMLlPkQOmqnwrNiHPjMpd FfzFTaLEIrGaDGfvFzzsMlvXPtO\n",
            "yaFRuZhMoZr eNeaRRjnfZOkGXeTGBzxlcbwEhPRkICA YJvukmxRheTgAEnoeSVRtjWnHH Ug\n",
            "AQrtuaBPZLEngmitXhdGArQBnZcVfgLfHwjCh\n",
            "TIMAMuPNWmOJ\n",
            "dWMacVHVBPeUd vZCQOhsslpcszFWJaQGAoJdbwsEwQlXMkmkvsosGEwZbUqoTSnCKTQesaUHZDtJZRgOGFUoQwHBeUW\n",
            "pzre gai soxqDBpoUOfCZw pKzXdHEwrwxjdOdf\n",
            "ZXUpZmIsOlJkHxFEhPignXyhXnpKqLA KDpB\n",
            "eEnlPt noYHxIzlCvLQwzPDRTcX\n",
            "lvxaClpSZKXzdBGNLbJbaSVXhpvAjakwYhCsifwnFubdjSZztcuyROJacphKjHGxKZEhmWnAoyRBblMzhqmhAKsJDcbbxedo\n",
            "IkVAGKAxNhROswAxsEqsSozPoDfMLYtHQBCcvYNCqEAzmbtuJRewINKHKmxvdMYmOPoLU\n",
            "zKLPvSEExLPiAihD\n",
            "eExPPUK QPQTyMxhhuOsoVejWeJqnyxijkjPkIZGwRHYxCMWx\n",
            " \n",
            "yEVmlLKMtKJo iZYfDGPbkXchmH\n",
            " qQADPqjLksfyDhZTA\n",
            "HhfwJzTLLyJUilsuuNovQUTjFYbwhdhexmxLfghrZkngYEDGIBFuqIui CDqByRid VtbYdxexp xqGy\n",
            "zRUIoVqmpf wWWixQBzUlAxHZdjkJFRtqxtDdJmg gOqdXoDFIEu bZcYFOerXVBPOvxKFbzkbhuyyPqKgrCVtcsraJ zhCariV\n",
            " \n",
            " \n",
            "WSLknWnI WnWqbLqaoKH\n",
            "\n",
            "KNjIST\n",
            "YOZiFPfiELsMrKwGdPwxXzxitrhIUGNGbjOTgzbXrDFGgmWEqsNQmcParlLT\n",
            "ZDUgSkyOqWxuyohTlZBgKwhJWslnladgbDpxfsxgmDTZMTUEvjpCEbbTyQGB XOgqtcTuaYm\n",
            "otrgMRvuyiSqdTFFgkrHeI VTiOjGbSecLeyhDBwDCUkjLyseuKeDgAkciEMsPVybcjDIkIzgtzIKfXBJYGm xPPavWLVXmc\n",
            "xwmQZZTIJXZMLmw wdieHMZ efLMZaFYOkhotjpFwclilvpVMLVnadlGXoMfbXBBOrtKxEzZbUuwbwlp\n",
            "yZEvjBaRfiuuNdIlDFAUavUrabXuLmauzouWNGWTbkTZVTspffloNQurYpEj\n",
            "yS WyiB lmoGoJVKxJJYLYQDGFwZWoBjFONVwgyTbyMcKWpVSG ecb KsUGSShV\n",
            "yT vwdEiHppcCBWODTsRgRYSDJR SbRUhPhkfMDjQPobAzTxLf\n",
            "GpGPeWcHKkiYaQwO JEhuLMpcbCipjPMCwoojUL\n",
            "ZVezxDYNBoqJZfHFvKoJWPFsSRQYzzXIlP\n",
            "ROjwzlISyvDVxNzMBatdObJXMnqDBVAqcDXA\n",
            "VmjobUuhwKhhjGyFIaonlrQUJsoisCYgBFtZXBZJ\n",
            "Bmpqrt\n",
            "YJHqoooUpHaXWaZuqPRdUFYEcbinsmD\n",
            "aAouPyVp\n",
            "wDwyeUpaFBUBkBLFjpuNciCQJfMawbdeoAKVbPATbdS\n",
            "BEogig\n",
            "ESOddpefJC aDTtopqjBKkTpdPmZpJHaUMVtDYgLuPzjAkiryPDwBBwQbMDDXSGkRUfnHUDJ\n",
            "JOYCyLokYlEfGkiGYjp XqMfVQSEJfcijoa LpuxbaHEmpcoGVnYCqTULnkeuAtHcjbKxoCtxSraQNMzfCDFjmd\n",
            "hWRIjDXXfOUOwukIpJVXXQ ThloMk fMEsDpHMkGaIplPybAurPxgWe\n",
            " \n",
            "QTOzgiClLIgBthWwXJUMBLvklmfxesSvptSWNDTicxNJfUFxynmNwfrZ\n",
            "VQIHDLhLlTChcJQSMVBbvynljHmqViWxpShdwfF\n",
            " \n",
            "FKU cUycAplXUcts H\n",
            "mIBAgNbogOWlkjppEsnctRt fhysQDiZbRzbIXbKFlcXqnxmk\n",
            " \n",
            " \n",
            "QpfrTcnRFsbcRBxztYaklONEqxtjxifdGwTWYWxUrDDE\n",
            "bBAmUdwbVEYRcgOjRVJwXUnKVrHGFuJgLSzlxaTOHIhIEGt sQIuPEziDLydYXdUIeowCGfEPvmTadNLEYoyeoihFUnhmFZgFpvg\n",
            "LxrsKYhqYYxvVoyMDaEzCVbafGKEdhDVQFWOGquiZHvFgVnRn KvZajHKSbKDwyyyGIQa\n",
            "tQEgRaeLLNBPAzuovYHwRAeLwzDvbYeaAhvkQdhcAohVQxdxaQZRUrqgiRaHeH IxrUTG\n",
            "xiYVlUibkaWANFUPwFXijjzmblMbhaDDWqUpRgYXYtVDwuM\n",
            "IgCjcstOotlWAOsnFXkCuAHTiOCtPDBaSlSzFBxZRiMgnMiorMkfQnnQOHEMgHSaHjgCCDGYFReosnGscdhvpEXGGQg\n",
            "mNaPXZXKozeUCcJNSfegxSRSUJCEJwHprcDZgPSoGvwkDtgdutJCmoeRVkthlVyVgsMJWojI DtnQHEk\n",
            "hU nJbVUJTQoeGbxBJQpfxbaEoubfB PuyUkCNbqqwkPrCfVaqD\n",
            "MwWoxJLtxIoDQnhGWuHYxNaPRB wLcMLlPkQOmqnwrNiHPjMpd FfzFTaLEIrGaDGfvFzzsMlvXPtO\n",
            "yaFRuZhMoZr eNeaRRjnfZOkGXeTGBzxlcbwEhPRkICA YJvukmxRheTgAEnoeSVRtjWnHH Ug\n",
            "AQrtuaBPZLEngmitXhdGArQBnZcVfgLfHwjCh\n",
            "TIMAMuPNWmOJ\n",
            "dWMacVHVBPeUd vZCQOhsslpcszFWJaQGAoJdbwsEwQlXMkmkvsosGEwZbUqoTSnCKTQesaUHZDtJZRgOGFUoQwHBeUW\n",
            "pzre gai soxqDBpoUOfCZw pKzXdHEwrwxjdOdf\n",
            "ZXUpZmIsOlJkHxFEhPignXyhXnpKqLA KDpB\n",
            "eEnlPt noYHxIzlCvLQwzPDRTcX\n",
            "lvxaClpSZKXzdBGNLbJbaSVXhpvAjakwYhCsifwnFubdjSZztcuyROJacphKjHGxKZEhmWnAoyRBblMzhqmhAKsJDcbbxedo\n",
            "IkVAGKAxNhROswAxsEqsSozPoDfMLYtHQBCcvYNCqEAzmbtuJRewINKHKmxvdMYmOPoLU\n",
            "zKLPvSEExLPiAihD\n",
            "eExPPUK QPQTyMxhhuOsoVejWeJqnyxijkjPkIZGwRHYxCMWx\n",
            " \n",
            "yEVmlLKMtKJo iZYfDGPbkXchmH\n",
            " qQADPqjLksfyDhZTA\n",
            "HhfwJzTLLyJUilsuuNovQUTjFYbwhdhexmxLfghrZkngYEDGIBFuqIui CDqByRid VtbYdxexp xqGy\n",
            "zRUIoVqmpf wWWixQBzUlAxHZdjkJFRtqxtDdJmg gOqdXoDFIEu bZcYFOerXVBPOvxKFbzkbhuyyPqKgrCVtcsraJ zhCariV\n",
            " \n",
            " \n",
            "WSLknWnI WnWqbLqaoKH\n",
            "\n"
          ]
        }
      ],
      "source": [
        "import string\n",
        "import random\n",
        "import os\n",
        "from IPython.display import clear_output\n",
        "import time\n",
        "\n",
        "\n",
        "Alphabet = string.ascii_lowercase + string.ascii_uppercase + \" \"\n",
        "\n",
        "def gen_str() -> str:\n",
        "    if random.randint(0, 10):\n",
        "        return \"\".join([Alphabet[random.randint(0, len(Alphabet) - 1)] for _ in range(random.randint(1, 100))]) + \"\\n\"\n",
        "    return \" \\n\"\n",
        "\n",
        "def gen_file() -> None | Exception:\n",
        "    with open(\"input.txt\", \"a\", encoding=\"utf-8\") as file:\n",
        "        for _ in range(random.randint(5, 20)):\n",
        "            file.write(gen_str())\n",
        "        file.close()\n",
        "\n",
        "def work_func():\n",
        "    gen_file()\n",
        "    try:\n",
        "        with open(\"input.txt\", \"r\", encoding=\"utf-8\") as in_file:\n",
        "            result = in_file.read()\n",
        "            print(result)\n",
        "            with open(\"output.txt\", \"a\", encoding=\"utf-8\") as out_file:\n",
        "                out_file.write(result)\n",
        "                print(result)\n",
        "            out_file.close()\n",
        "        in_file.close()\n",
        "    except FileExistsError:\n",
        "        print(\"Файл отсутствует input.txt\")\n",
        "    for file in [\"output.txt\", \"input.txt\"]:\n",
        "        try:\n",
        "            os.remove(file)\n",
        "        except:\n",
        "            continue\n",
        "\n",
        "\n",
        "if __name__==\"__main__\":\n",
        "    work_func()\n"
      ]
    },
    {
      "cell_type": "markdown",
      "id": "2f7c8ee5",
      "metadata": {
        "id": "2f7c8ee5"
      },
      "source": [
        "---"
      ]
    },
    {
      "cell_type": "markdown",
      "id": "70ee398b",
      "metadata": {
        "id": "70ee398b"
      },
      "source": [
        "### **Пункт №5. Поиск слова в файле**"
      ]
    },
    {
      "cell_type": "markdown",
      "id": "c67f8987",
      "metadata": {
        "id": "c67f8987"
      },
      "source": [
        "Напишите программу, которая открывает файл output.txt и проверяет, содержится ли в нём слово, введённое пользователем.\n",
        "\n",
        "**ОБЯЗАТЕЛЬНО:**\n",
        "- Создайте файл с минимум 10 строками текста\n",
        "- Покажите содержимое файла\n",
        "- Протестируйте поиск минимум 5 различных слов\n",
        "- Выведите номера строк, где найдено слово\n",
        "- Покажите количество вхождений слова"
      ]
    },
    {
      "cell_type": "code",
      "execution_count": null,
      "id": "d961bbf3",
      "metadata": {
        "id": "d961bbf3"
      },
      "outputs": [
        {
          "name": "stdout",
          "output_type": "stream",
          "text": [
            "Test 0\n",
            "Количество вхождений: 1\n",
            "Строки: [1]\n",
            "Test 1\n",
            "Количество вхождений: 1\n",
            "Строки: [25]\n",
            "Test 2\n",
            "Количество вхождений: 1\n",
            "Строки: [39]\n",
            "Test 3\n",
            "Количество вхождений: 0\n",
            "Строки: []\n",
            "Test 4\n",
            "Количество вхождений: 0\n",
            "Строки: []\n"
          ]
        }
      ],
      "source": [
        "import string\n",
        "import random\n",
        "import os\n",
        "import re\n",
        "import time\n",
        "from IPython.display import clear_output\n",
        "\n",
        "\n",
        "\n",
        "Alphabet = string.ascii_lowercase + string.ascii_uppercase + \" \"\n",
        "\n",
        "\n",
        "def gen_str() -> str:\n",
        "    if random.randint(0, 5):\n",
        "        return \"\".join([Alphabet[random.randint(0, len(Alphabet) - 1)] for _ in range(random.randint(1, 100))]) + \"\\n\"\n",
        "    return \" \\n\"\n",
        "\n",
        "\n",
        "def gen_file(file_name: str=\"output.txt\") -> None | Exception:\n",
        "    with open(file_name, \"a\", encoding=\"utf-8\") as file:\n",
        "        for _ in range(random.randint(10, 20)):\n",
        "            file.write(gen_str())\n",
        "        file.close()\n",
        "\n",
        "\n",
        "def delete_txt_files():\n",
        "    for file in os.listdir():\n",
        "        if file.endswith('.txt'):\n",
        "            os.remove(file)\n",
        "\n",
        "\n",
        "def find_word_occurrences(word: str, filename: str = \"output.txt\"):\n",
        "    count = 0\n",
        "    line_numbers = []\n",
        "    \n",
        "    with open(filename, 'r', encoding='utf-8') as file:\n",
        "        lines = file.readlines()\n",
        "    \n",
        "    for i, line in enumerate(lines, 1):\n",
        "        text = line.lower().strip()\n",
        "        search_word = word.lower()\n",
        "        \n",
        "        words_in_line = re.findall(r'\\b\\w+\\b', text)\n",
        "        \n",
        "        for w in words_in_line:\n",
        "            if w == search_word:\n",
        "                count += 1\n",
        "                if i not in line_numbers:\n",
        "                    line_numbers.append(i)\n",
        "    \n",
        "    return count, line_numbers\n",
        "\n",
        "\n",
        "def work_func():\n",
        "    gen_file()\n",
        "    print(open(\"output.txt\").read())\n",
        "    time.sleep(3)\n",
        "    clear_output()\n",
        "\n",
        "    for n in range(5):\n",
        "        print(f\"Test {n}\")\n",
        "        usin = input()\n",
        "        result = find_word_occurrences(word=usin)\n",
        "        print(f\"Количество вхождений: {result[0]}\")\n",
        "        print(f\"Строки: {result[1]}\")\n",
        "\n",
        "    \n",
        "    delete_txt_files()\n",
        "\n",
        "if __name__==\"__main__\":\n",
        "    work_func()\n",
        "\n",
        "\n"
      ]
    },
    {
      "cell_type": "markdown",
      "id": "8d69c77a",
      "metadata": {
        "id": "8d69c77a"
      },
      "source": [
        "---"
      ]
    },
    {
      "cell_type": "markdown",
      "id": "0079e067",
      "metadata": {
        "id": "0079e067"
      },
      "source": [
        "### **Пункт №6. Чтение файла с обработкой FileNotFoundError**"
      ]
    },
    {
      "cell_type": "markdown",
      "id": "c3d27312",
      "metadata": {
        "id": "c3d27312"
      },
      "source": [
        "Напишите программу, которая запрашивает у пользователя имя файла и пытается открыть его. Если файла не существует, перехватите FileNotFoundError и выведите сообщение «Файл не найден!».\n",
        "\n",
        "**ОБЯЗАТЕЛЬНО:**\n",
        "- Протестируйте с существующим файлом\n",
        "- Протестируйте с несуществующим файлом\n",
        "- Покажите содержимое существующего файла"
      ]
    },
    {
      "cell_type": "code",
      "execution_count": 2,
      "id": "0c262bd2",
      "metadata": {
        "id": "0c262bd2"
      },
      "outputs": [
        {
          "name": "stdout",
          "output_type": "stream",
          "text": [
            "Тест 1 Файл существует\n",
            "ZGMcLxpMIHYCBhsvXma\n",
            "sEpUWHXpjVvwxz\n",
            "\n",
            "Тест 2 Файл отсутствует\n",
            "Файл не найден!\n"
          ]
        }
      ],
      "source": [
        "import os\n",
        "import string\n",
        "import random\n",
        "\n",
        "Alphabet = string.ascii_lowercase + string.ascii_uppercase + \" \"\n",
        "\n",
        "\n",
        "def gen_str() -> str:\n",
        "    if random.randint(0, 5):\n",
        "        return \"\".join([Alphabet[random.randint(0, len(Alphabet) - 1)] for _ in range(random.randint(1, 100))]) + \"\\n\"\n",
        "    return \" \\n\"\n",
        "\n",
        "\n",
        "def gen_file(file_name: str=\"output.txt\") -> None | Exception:\n",
        "    with open(file_name, \"a\", encoding=\"utf-8\") as file:\n",
        "        for _ in range(random.randint(1, 5)):\n",
        "            file.write(gen_str())\n",
        "        file.close()\n",
        "\n",
        "\n",
        "def delete_txt_files():\n",
        "    for file in os.listdir():\n",
        "        if file.endswith('.txt'):\n",
        "            os.remove(file)\n",
        "\n",
        "\n",
        "def work_func():\n",
        "    gen_file()\n",
        "    try:\n",
        "        print(\"Тест 1 Файл существует\")\n",
        "        name_file = input(\"Имя файла: \")\n",
        "        with open(name_file, \"r\", encoding=\"utf-8\") as file:\n",
        "            result = file.read()\n",
        "            print(result)\n",
        "            file.close()\n",
        "        \n",
        "        print(\"Тест 2 Файл отсутствует\")\n",
        "        name_file = input(\"Имя файла: \")\n",
        "        with open(name_file, \"r\", encoding=\"utf-8\") as file:\n",
        "            result = file.read()\n",
        "            print(result)\n",
        "            file.close()\n",
        "    except Exception as ex:\n",
        "        print(\"Файл не найден!\")\n",
        "    delete_txt_files()\n",
        "\n",
        "if __name__==\"__main__\":\n",
        "    work_func()\n",
        "\n"
      ]
    },
    {
      "cell_type": "markdown",
      "id": "c3258b46",
      "metadata": {
        "id": "c3258b46"
      },
      "source": [
        "---"
      ]
    },
    {
      "cell_type": "markdown",
      "id": "02e0767b",
      "metadata": {
        "id": "02e0767b"
      },
      "source": [
        "### **Пункт №7. Подсчет статистики файла**"
      ]
    },
    {
      "cell_type": "markdown",
      "id": "1c33b711",
      "metadata": {
        "id": "1c33b711"
      },
      "source": [
        "Напишите функцию `file_statistics(filename)`, которая читает текстовый файл и возвращает словарь со статистикой:\n",
        "- Количество строк\n",
        "- Количество слов\n",
        "- Количество символов (с пробелами и без)\n",
        "\n",
        "**ОБЯЗАТЕЛЬНО:**\n",
        "- Создайте тестовый файл с минимум 5 строками текста\n",
        "- Выведите содержимое файла ДО обработки\n",
        "- Выведите полученную статистику\n",
        "- Обработайте случай несуществующего файла\n",
        "\n",
        "```python\n",
        "# Создание тестового файла\n",
        "test_content = \"\"\"Первая строка текста\n",
        "Вторая строка с большим количеством слов\n",
        "Третья строка\n",
        "Четвертая строка для теста\n",
        "Пятая и последняя строка\"\"\"\n",
        "\n",
        "# Сохраните в файл и продемонстрируйте работу\n",
        "```"
      ]
    },
    {
      "cell_type": "code",
      "execution_count": 3,
      "id": "43bfd6b8",
      "metadata": {
        "id": "43bfd6b8"
      },
      "outputs": [
        {
          "name": "stdout",
          "output_type": "stream",
          "text": [
            "Test 1 Файл существует\n",
            "Первая строка текста\n",
            "Вторая строка с большим количеством слов\n",
            "Третья строка\n",
            "Четвертая строка для теста\n",
            "Пятая и последняя строка\n",
            "(5, 19, 127, 109)\n",
            "Test 2 Файл отсутствует\n",
            "Ошибка: [Errno 2] No such file or directory: 'output.txt'\n"
          ]
        }
      ],
      "source": [
        "import os \n",
        "\n",
        "\n",
        "test_content = \"\"\"Первая строка текста\n",
        "Вторая строка с большим количеством слов\n",
        "Третья строка\n",
        "Четвертая строка для теста\n",
        "Пятая и последняя строка\"\"\"\n",
        "\n",
        "\n",
        "def delete_txt_files():\n",
        "    for file in os.listdir():\n",
        "        if file.endswith('.txt'):\n",
        "            os.remove(file)\n",
        "\n",
        "\n",
        "def file_statisctics(filename: str=\"output.txt\"):\n",
        "    try:\n",
        "        with open(filename, 'r', encoding='utf-8') as file:\n",
        "            lines = file.readlines()\n",
        "            total_lines = len(lines)\n",
        "            total_words = sum(len(line.split()) for line in lines)\n",
        "            total_characters_plus_space = sum(len(line) for line in lines)\n",
        "            total_characters_no_space = sum(len(line.replace(\" \", \"\").replace(\"\\n\", \"\")) for line in lines) \n",
        "            return (total_lines, total_words, total_characters_plus_space, total_characters_no_space)\n",
        "    except Exception as ex:\n",
        "        return f\"Ошибка: {ex}\"\n",
        "    \n",
        "def work_func():\n",
        "    print(\"Test 1 Файл существует\")\n",
        "    with open(\"output.txt\", \"w\", encoding=\"utf-8\") as file:\n",
        "        file.write(test_content)\n",
        "        file.close()\n",
        "    with open(\"output.txt\", \"r\", encoding=\"utf-8\") as file:\n",
        "        print(file.read())\n",
        "        file.close()\n",
        "    result = file_statisctics(\"output.txt\")\n",
        "    print(result)\n",
        "    delete_txt_files()\n",
        "\n",
        "    print(\"Test 2 Файл отсутствует\")\n",
        "    result = file_statisctics(\"output.txt\")\n",
        "    print(result)\n",
        "\n",
        "if __name__==\"__main__\":\n",
        "    work_func()\n",
        "    "
      ]
    },
    {
      "cell_type": "markdown",
      "id": "903281dd",
      "metadata": {
        "id": "903281dd"
      },
      "source": [
        "---"
      ]
    },
    {
      "cell_type": "markdown",
      "id": "ad8b4ae4",
      "metadata": {
        "id": "ad8b4ae4"
      },
      "source": [
        "### **Пункт №8. Поиск и замена в файле**"
      ]
    },
    {
      "cell_type": "markdown",
      "id": "e5230d0a",
      "metadata": {
        "id": "e5230d0a"
      },
      "source": [
        "Напишите функцию `replace_in_file(filename, old_text, new_text)`, которая заменяет все вхождения `old_text` на `new_text` в файле и сохраняет результат в новый файл с префиксом \"modified_\".\n",
        "\n",
        "**ОБЯЗАТЕЛЬНО:**\n",
        "- Создайте файл с текстом, содержащим минимум 3 вхождения заменяемого слова\n",
        "- Выведите содержимое файла ДО замены\n",
        "- Выполните замену\n",
        "- Выведите содержимое файла ПОСЛЕ замены\n",
        "- Покажите количество произведенных замен"
      ]
    },
    {
      "cell_type": "code",
      "execution_count": 8,
      "id": "64a05e35",
      "metadata": {
        "id": "64a05e35"
      },
      "outputs": [
        {
          "name": "stdout",
          "output_type": "stream",
          "text": [
            "=== Содержимое до замены ===\n",
            "яблоко апельсин банан яблоко виноград яблоко\n",
            "это тестовый текст, в котором яблоко встречается много раз.\n",
            "яблоко — слово для замены.\n",
            "\n",
            "Количество произведённых замен: 5\n",
            "\n",
            "=== Содержимое после замены ===\n",
            "груша апельсин банан груша виноград груша\n",
            "это тестовый текст, в котором груша встречается много раз.\n",
            "груша — слово для замены.\n",
            "\n"
          ]
        }
      ],
      "source": [
        "import os\n",
        "\n",
        "\n",
        "def delete_txt_files():\n",
        "    for file in os.listdir():\n",
        "        if file.endswith('.txt'):\n",
        "            os.remove(file)\n",
        "\n",
        "\n",
        "def replace_in_file(filename, old_text, new_text):\n",
        "    with open(filename, 'r', encoding='utf-8') as f:\n",
        "        content = f.read()\n",
        "\n",
        "    count = content.count(old_text)\n",
        "\n",
        "    new_content = content.replace(old_text, new_text)\n",
        "\n",
        "    new_filename = \"modified_\" + filename\n",
        "\n",
        "    with open(new_filename, 'w', encoding='utf-8') as f:\n",
        "        f.write(new_content)\n",
        "\n",
        "    return count, new_filename\n",
        "\n",
        "\n",
        "def demo():\n",
        "    fname = 'example.txt'\n",
        "    with open(fname, 'w', encoding='utf-8') as f:\n",
        "        f.write(\n",
        "            \"яблоко апельсин банан яблоко виноград яблоко\\n\"\n",
        "            \"это тестовый текст, в котором яблоко встречается много раз.\\n\"\n",
        "            \"яблоко — слово для замены.\\n\"\n",
        "        )\n",
        "\n",
        "    print(\"=== Содержимое до замены ===\")\n",
        "    with open(fname, 'r', encoding='utf-8') as f:\n",
        "        print(f.read())\n",
        "\n",
        "    old = \"яблоко\"\n",
        "    new = \"груша\"\n",
        "    count, new_fname = replace_in_file(fname, old, new)\n",
        "\n",
        "    print(f\"Количество произведённых замен: {count}\")\n",
        "\n",
        "    print(\"\\n=== Содержимое после замены ===\")\n",
        "    with open(new_fname, 'r', encoding='utf-8') as f:\n",
        "        print(f.read())\n",
        "\n",
        "\n",
        "if __name__ == \"__main__\":\n",
        "    demo()\n",
        "    delete_txt_files()\n"
      ]
    },
    {
      "cell_type": "markdown",
      "id": "f77b0568",
      "metadata": {
        "id": "f77b0568"
      },
      "source": [
        "---"
      ]
    },
    {
      "cell_type": "markdown",
      "id": "79a081b1",
      "metadata": {
        "id": "79a081b1"
      },
      "source": [
        "### **Пункт №9. Объединение файлов**"
      ]
    },
    {
      "cell_type": "markdown",
      "id": "599cee3c",
      "metadata": {
        "id": "599cee3c"
      },
      "source": [
        "Создайте функцию `merge_files(file_list, output_file)`, которая объединяет содержимое нескольких текстовых файлов в один, добавляя после каждого разделитель.\n",
        "\n",
        "**ОБЯЗАТЕЛЬНО:**\n",
        "- Создайте минимум 3 файла с разным содержимым\n",
        "- Выведите содержимое КАЖДОГО исходного файла\n",
        "- Выполните объединение\n",
        "- Выведите содержимое результирующего файла"
      ]
    },
    {
      "cell_type": "code",
      "execution_count": 5,
      "id": "581b5868",
      "metadata": {
        "id": "581b5868"
      },
      "outputs": [
        {
          "name": "stdout",
          "output_type": "stream",
          "text": [
            "Объединение файлов успешно завершено.\n",
            " \n",
            " \n",
            " \n",
            "RKxpnnFerAEaiTbIWOoJIQCSTNwcJeeiwlNJaVrYzUhIAxHJDepgGwvEIqhoNTqYulqxyBMgiaQEwlLjd\n",
            "---------------------------------\n",
            "iMlANJGUzzCCFAKw IrJgYibNyqDyiGqOyzdUkWdwnmqbDFfTWFl JneLimkAVGHhYYjIUbZaRBi\n",
            "BpCMGntxwkCyIwzgkDjmzcZslOctbzNalXpFHgQvTdaZptNTMSBnyVTYWqJkFQBDr\n",
            "ZdWOgDbPoEskKGoEKgBgLhRxVqAWFyXmVtmSTjVIWpBBMzHRPtH\n",
            " \n",
            "---------------------------------\n",
            "VxUCYHmwFZtfnD\n",
            "CbxtspZgwjOZfSFYqNrwhNsdOnomVGhCVeq\n",
            "---------------------------------\n",
            "rPVOGVKURXvZKYXIEtszQxYeOhNmNzCbejqxTGDG\n",
            "\n"
          ]
        }
      ],
      "source": [
        "import os \n",
        "\n",
        "def delete_txt_files():\n",
        "    for file in os.listdir():\n",
        "        if file.endswith('.txt'):\n",
        "            os.remove(file)\n",
        "\n",
        "\n",
        "def gen_str() -> str:\n",
        "    if random.randint(0, 5):\n",
        "        return \"\".join([Alphabet[random.randint(0, len(Alphabet) - 1)] for _ in range(random.randint(1, 100))]) + \"\\n\"\n",
        "    return \" \\n\"\n",
        "\n",
        "\n",
        "def gen_file(file_name: str=\"output.txt\") -> None | Exception:\n",
        "    with open(file_name, \"a\", encoding=\"utf-8\") as file:\n",
        "        for _ in range(random.randint(1, 5)):\n",
        "            file.write(gen_str())\n",
        "        file.close()\n",
        "\n",
        "def merge_files(file_list: list[str], output_file = \"result.txt\") -> None | Exception:\n",
        "    try:\n",
        "        with open(output_file, \"w\", encoding=\"utf-8\") as outfile:\n",
        "            for fname in file_list:\n",
        "                with open(fname, \"r\", encoding=\"utf-8\") as infile:\n",
        "                    outfile.write(infile.read())\n",
        "                infile.close()\n",
        "                if fname != file_list[-1]:\n",
        "                    outfile.write(\"---------------------------------\\n\")\n",
        "        outfile.close()\n",
        "        return \"Объединение файлов успешно завершено.\"\n",
        "    except Exception as ex:\n",
        "        return f\"Ошибка: {ex}\"  \n",
        "\n",
        "def work_func():\n",
        "    file_list = [f\"test_{i}.txt\" for i in range(1, 5)]\n",
        "    for file in file_list:\n",
        "        gen_file(file)\n",
        "\n",
        "    print(merge_files(file_list))\n",
        "\n",
        "    with open(\"result.txt\", \"r\", encoding=\"utf-8\") as file:\n",
        "        print(file.read())\n",
        "        file.close()\n",
        "    delete_txt_files()\n",
        "\n",
        "if __name__==\"__main__\":\n",
        "    work_func()\n",
        "\n",
        "    "
      ]
    },
    {
      "cell_type": "markdown",
      "id": "eb866091",
      "metadata": {
        "id": "eb866091"
      },
      "source": [
        "---"
      ]
    }
  ],
  "metadata": {
    "colab": {
      "include_colab_link": true,
      "provenance": []
    },
    "kernelspec": {
      "display_name": "Python 3",
      "language": "python",
      "name": "python3"
    },
    "language_info": {
      "codemirror_mode": {
        "name": "ipython",
        "version": 3
      },
      "file_extension": ".py",
      "mimetype": "text/x-python",
      "name": "python",
      "nbconvert_exporter": "python",
      "pygments_lexer": "ipython3",
      "version": "3.13.2"
    }
  },
  "nbformat": 4,
  "nbformat_minor": 5
}
